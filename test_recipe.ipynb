{
 "cells": [
  {
   "cell_type": "code",
   "execution_count": 5,
   "metadata": {},
   "outputs": [],
   "source": [
    "import json\n",
    "import numpy as np\n",
    "import pandas as pd\n",
    "import pickle"
   ]
  },
  {
   "cell_type": "code",
   "execution_count": 6,
   "metadata": {},
   "outputs": [],
   "source": [
    "def extract_data_from_json(json_file):\n",
    "    with open(json_file, 'r') as file:\n",
    "        data = json.load(file)\n",
    "        key_report_cas = data.get('key_report_cas', {})\n",
    "        natrual_oils = data.get('natrual_oils', {})\n",
    "        all_key_report_cas = data.get('all_key_report_cas', {})\n",
    "        key_natrual_oils = data.get(\"key_recipe_code\", {})\n",
    "\n",
    "        return key_report_cas, natrual_oils, all_key_report_cas, key_natrual_oils"
   ]
  },
  {
   "cell_type": "code",
   "execution_count": 7,
   "metadata": {},
   "outputs": [],
   "source": [
    "\n",
    "json_file = 'data/key_materials.json'  # Replace with your JSON file path\n",
    "key_report_cas, natrual_oils, all_key_report_cas, key_natrual_oils = extract_data_from_json(json_file)\n",
    "NUM_KEY_CAS = 110\n",
    "NUM_ALL_KEY_CAS = 820\n",
    "NUM_NATURAL_OILS = 235\n",
    "NUM_KEY_OILS = 5"
   ]
  },
  {
   "cell_type": "code",
   "execution_count": 8,
   "metadata": {},
   "outputs": [],
   "source": [
    "\n",
    "def extract_vector_from_report(key_report_cas, report):\n",
    "    input_vector = np.zeros(NUM_KEY_CAS)\n",
    "    report_data = report\n",
    "    report_data = report_data[['CAS', '面积百分比']]\n",
    "    report_data = report_data.groupby('CAS')['面积百分比'].sum().reset_index()\n",
    "    for _, row in report_data.iterrows():\n",
    "        cas = row['CAS']\n",
    "        area = row['面积百分比']\n",
    "        if cas in key_report_cas:\n",
    "            input_vector[key_report_cas[cas]] = area   \n",
    "    return input_vector"
   ]
  },
  {
   "cell_type": "code",
   "execution_count": 9,
   "metadata": {},
   "outputs": [],
   "source": [
    "\n",
    "def extract_all_vector_from_report(key_report_cas, report):\n",
    "    input_vector = np.zeros(NUM_ALL_KEY_CAS)\n",
    "    report_data = report\n",
    "    report_data = report_data[['CAS', '面积百分比']]\n",
    "    report_data = report_data.groupby('CAS')['面积百分比'].sum().reset_index()\n",
    "    for _, row in report_data.iterrows():\n",
    "        cas = row['CAS']\n",
    "        area = row['面积百分比']\n",
    "        if cas in key_report_cas:\n",
    "            input_vector[key_report_cas[cas]] = area   \n",
    "    return input_vector"
   ]
  },
  {
   "cell_type": "code",
   "execution_count": 10,
   "metadata": {},
   "outputs": [],
   "source": [
    "def extract_vector_from_recipe(natrual_oils, recipe):\n",
    "    output_feature = np.zeros(NUM_NATURAL_OILS)\n",
    "    for _, row in recipe.iterrows():\n",
    "        code = str(row['元件品号'])\n",
    "        percentage = row['组成用量']\n",
    "        if code in natrual_oils:\n",
    "            output_feature[natrual_oils[code]] = percentage\n",
    "    return output_feature "
   ]
  },
  {
   "cell_type": "code",
   "execution_count": 11,
   "metadata": {},
   "outputs": [],
   "source": [
    "def extract_key_vector_from_recipe(natrual_oils, recipe):\n",
    "    output_feature = np.zeros(NUM_KEY_OILS)\n",
    "    for _, row in recipe.iterrows():\n",
    "        code = str(row['元件品号'])\n",
    "        percentage = row['组成用量']\n",
    "        if code in natrual_oils:\n",
    "            output_feature[natrual_oils[code]] = percentage\n",
    "    return output_feature "
   ]
  },
  {
   "cell_type": "code",
   "execution_count": 12,
   "metadata": {},
   "outputs": [],
   "source": [
    "sample_report = 'test_sample/sample_report.xlsx'\n",
    "sample_recipe = 'test_sample/sample_recipe.xlsx'"
   ]
  },
  {
   "cell_type": "code",
   "execution_count": 13,
   "metadata": {},
   "outputs": [],
   "source": [
    "with open('data/database.pkl', 'rb') as f:\n",
    "    loaded_data = pickle.load(f)\n",
    "    analysisReportDf = loaded_data['analysisReportDf']\n",
    "    formulaDf = loaded_data['formulaDf']\n",
    "    analysisReportDf['面积百分比'] = analysisReportDf['面积百分比'].astype(float)\n",
    "    formulaDf['组成用量'] = formulaDf['组成用量'].astype(float)"
   ]
  },
  {
   "cell_type": "code",
   "execution_count": 14,
   "metadata": {},
   "outputs": [
    {
     "name": "stdout",
     "output_type": "stream",
     "text": [
      "     主件品号      主件品名                                  元件ID   元件品号  \\\n",
      "0  A00446  仿-粉香（水溶）  48DBFF66-04CB-4381-0672-154924518262  98086   \n",
      "1  A00446  仿-粉香（水溶）  B3FCB979-1446-45BA-217B-1549245C316F  98061   \n",
      "2  A00446  仿-粉香（水溶）  D305E665-DA05-4914-00AC-1549248F38EF  97099   \n",
      "3  A00446  仿-粉香（水溶）  E7152084-CC7B-42A9-4AF3-154924A76F6E  97071   \n",
      "4  A00446  仿-粉香（水溶）  F166E9CE-A38C-4783-C3ED-154924B32452  97055   \n",
      "\n",
      "           元件品名        CAS号   组成用量   底数    Period          单位成本      成本金额  \n",
      "0     异甲基紫罗兰酮70    127-51-5  0.220  100  2025-06   156.76243113  0.344877  \n",
      "1        甲基紫罗兰酮    127-42-4  0.070  100  2025-06   223.47466395  0.156432  \n",
      "2  羟基香草醛/羟醛（进口）    107-75-5  0.136  100  2025-06   334.96232957  0.455548  \n",
      "3          波洁红醛  18127-01-0  0.080  100  2025-06   716.43315237  0.573146  \n",
      "4          兔耳草醛    103-95-7  0.300  100  2025-06   314.34678257  0.943040  \n"
     ]
    }
   ],
   "source": [
    "print(formulaDf.head())"
   ]
  },
  {
   "cell_type": "code",
   "execution_count": 15,
   "metadata": {},
   "outputs": [
    {
     "name": "stdout",
     "output_type": "stream",
     "text": [
      "   Unnamed: 0      时间                              名称          CAS   匹配度  \\\n",
      "0         0.0   6.719                          丙二醇/PG  000057-55-6  91.0   \n",
      "1         1.0   9.579  2-Propanol, 1-(2-propenyloxy)-  021460-36-6  81.0   \n",
      "2         2.0  12.199         丁酸异丁酯/ISOBUTYL BUTYRATE  000539-90-2  79.0   \n",
      "3         3.0  13.482                苯甲醛/BENZALDEHYDE  000100-52-7  63.0   \n",
      "4         4.0  13.628               甲位蒎烯/ALPHA PINENE  000080-56-8  94.0   \n",
      "\n",
      "   面积百分比     分析编号  \n",
      "0  0.020  FC13521  \n",
      "1  0.050  FC13521  \n",
      "2  0.002  FC13521  \n",
      "3  0.001  FC13521  \n",
      "4  0.080  FC13521  \n"
     ]
    }
   ],
   "source": [
    "print(analysisReportDf.head())"
   ]
  },
  {
   "cell_type": "code",
   "execution_count": 24,
   "metadata": {},
   "outputs": [
    {
     "name": "stdout",
     "output_type": "stream",
     "text": [
      "[0.000e+00 0.000e+00 0.000e+00 2.600e-01 0.000e+00 0.000e+00 0.000e+00\n",
      " 0.000e+00 0.000e+00 7.887e+00 0.000e+00 0.000e+00 0.000e+00 0.000e+00\n",
      " 0.000e+00 0.000e+00 0.000e+00 0.000e+00 0.000e+00 0.000e+00 0.000e+00\n",
      " 0.000e+00 0.000e+00 0.000e+00 7.000e-02 0.000e+00 1.000e-03 0.000e+00\n",
      " 0.000e+00 0.000e+00 0.000e+00 0.000e+00 5.000e-02 0.000e+00 2.000e-02\n",
      " 0.000e+00 4.000e-03 0.000e+00 0.000e+00 0.000e+00 0.000e+00 0.000e+00\n",
      " 0.000e+00 0.000e+00 0.000e+00 0.000e+00 0.000e+00 0.000e+00 0.000e+00\n",
      " 0.000e+00 0.000e+00 0.000e+00 0.000e+00 0.000e+00 0.000e+00 0.000e+00\n",
      " 0.000e+00 0.000e+00 0.000e+00 0.000e+00 9.000e-02 0.000e+00 0.000e+00\n",
      " 0.000e+00 0.000e+00 0.000e+00 0.000e+00 0.000e+00 0.000e+00 0.000e+00\n",
      " 0.000e+00 0.000e+00 0.000e+00 0.000e+00 0.000e+00 0.000e+00 0.000e+00\n",
      " 0.000e+00 0.000e+00 0.000e+00 0.000e+00 0.000e+00 7.400e-01 0.000e+00\n",
      " 0.000e+00 4.000e-03 0.000e+00 0.000e+00 0.000e+00 0.000e+00 0.000e+00\n",
      " 0.000e+00 0.000e+00 0.000e+00 0.000e+00 1.970e+00 0.000e+00 0.000e+00\n",
      " 0.000e+00 0.000e+00 0.000e+00 0.000e+00 0.000e+00 0.000e+00 0.000e+00\n",
      " 0.000e+00 0.000e+00 0.000e+00 0.000e+00 0.000e+00 0.000e+00 0.000e+00\n",
      " 0.000e+00 4.000e-02 4.000e-03 0.000e+00 0.000e+00 0.000e+00 0.000e+00\n",
      " 0.000e+00 0.000e+00 0.000e+00 4.000e-03 0.000e+00 0.000e+00 0.000e+00\n",
      " 0.000e+00 0.000e+00 0.000e+00 0.000e+00 0.000e+00 0.000e+00 0.000e+00\n",
      " 0.000e+00 0.000e+00 0.000e+00 0.000e+00 0.000e+00 0.000e+00 0.000e+00\n",
      " 0.000e+00 0.000e+00 0.000e+00 0.000e+00 0.000e+00 0.000e+00 0.000e+00\n",
      " 0.000e+00 0.000e+00 0.000e+00 0.000e+00 0.000e+00 0.000e+00 0.000e+00\n",
      " 0.000e+00 0.000e+00 0.000e+00 0.000e+00 0.000e+00 0.000e+00 0.000e+00\n",
      " 0.000e+00 0.000e+00 0.000e+00 0.000e+00 6.000e-02 0.000e+00 0.000e+00\n",
      " 0.000e+00 9.700e-01 0.000e+00 0.000e+00 0.000e+00 0.000e+00 0.000e+00\n",
      " 0.000e+00 0.000e+00 0.000e+00 0.000e+00 0.000e+00 0.000e+00 0.000e+00\n",
      " 0.000e+00 0.000e+00 0.000e+00 2.000e-03 0.000e+00 0.000e+00 0.000e+00\n",
      " 0.000e+00 0.000e+00 0.000e+00 0.000e+00 0.000e+00 7.000e-02 0.000e+00\n",
      " 0.000e+00 0.000e+00 1.000e-02 0.000e+00 0.000e+00 0.000e+00 0.000e+00\n",
      " 0.000e+00 0.000e+00 0.000e+00 0.000e+00 0.000e+00 4.000e-03 0.000e+00\n",
      " 0.000e+00 0.000e+00 0.000e+00 0.000e+00 0.000e+00 0.000e+00 0.000e+00\n",
      " 0.000e+00 0.000e+00 0.000e+00 0.000e+00 8.900e-01 0.000e+00 0.000e+00\n",
      " 0.000e+00 0.000e+00 0.000e+00 0.000e+00 0.000e+00 0.000e+00 0.000e+00\n",
      " 0.000e+00 0.000e+00 0.000e+00 0.000e+00 0.000e+00 0.000e+00 0.000e+00\n",
      " 0.000e+00 0.000e+00 0.000e+00 1.000e-02 0.000e+00 0.000e+00 0.000e+00\n",
      " 0.000e+00 0.000e+00 0.000e+00 0.000e+00 0.000e+00 0.000e+00 0.000e+00\n",
      " 0.000e+00 0.000e+00 1.290e+00 0.000e+00 0.000e+00 0.000e+00 1.000e-03\n",
      " 0.000e+00 0.000e+00 0.000e+00 0.000e+00 0.000e+00 0.000e+00 0.000e+00\n",
      " 0.000e+00 0.000e+00 0.000e+00 0.000e+00 0.000e+00 0.000e+00 1.640e+00\n",
      " 0.000e+00 0.000e+00 0.000e+00 0.000e+00 0.000e+00 0.000e+00 0.000e+00\n",
      " 0.000e+00 0.000e+00 1.000e-02 0.000e+00 0.000e+00 0.000e+00 0.000e+00\n",
      " 0.000e+00 3.240e-01 0.000e+00 0.000e+00 0.000e+00 0.000e+00 0.000e+00\n",
      " 6.000e-02 0.000e+00 0.000e+00 0.000e+00 0.000e+00 0.000e+00 0.000e+00\n",
      " 0.000e+00 0.000e+00 0.000e+00 0.000e+00 0.000e+00 0.000e+00 0.000e+00\n",
      " 0.000e+00 0.000e+00 0.000e+00 0.000e+00 0.000e+00 0.000e+00 0.000e+00\n",
      " 0.000e+00 0.000e+00 0.000e+00 3.300e-01 0.000e+00 3.500e-01 0.000e+00\n",
      " 0.000e+00 0.000e+00 0.000e+00 0.000e+00 0.000e+00 0.000e+00 0.000e+00\n",
      " 1.400e-01 0.000e+00 1.062e+01 0.000e+00 0.000e+00 0.000e+00 0.000e+00\n",
      " 0.000e+00 0.000e+00 0.000e+00 0.000e+00 0.000e+00 0.000e+00 0.000e+00\n",
      " 0.000e+00 0.000e+00 0.000e+00 0.000e+00 0.000e+00 0.000e+00 0.000e+00\n",
      " 0.000e+00 0.000e+00 0.000e+00 0.000e+00 0.000e+00 0.000e+00 0.000e+00\n",
      " 0.000e+00 0.000e+00 0.000e+00 0.000e+00 0.000e+00 0.000e+00 0.000e+00\n",
      " 0.000e+00 2.920e+00 0.000e+00 0.000e+00 0.000e+00 0.000e+00 0.000e+00\n",
      " 0.000e+00 0.000e+00 0.000e+00 0.000e+00 0.000e+00 0.000e+00 0.000e+00\n",
      " 0.000e+00 0.000e+00 0.000e+00 0.000e+00 0.000e+00 0.000e+00 0.000e+00\n",
      " 0.000e+00 5.000e-02 0.000e+00 0.000e+00 0.000e+00 0.000e+00 0.000e+00\n",
      " 0.000e+00 0.000e+00 0.000e+00 0.000e+00 0.000e+00 0.000e+00 0.000e+00\n",
      " 0.000e+00 0.000e+00 0.000e+00 0.000e+00 0.000e+00 0.000e+00 0.000e+00\n",
      " 0.000e+00 0.000e+00 0.000e+00 0.000e+00 0.000e+00 0.000e+00 0.000e+00\n",
      " 0.000e+00 0.000e+00 0.000e+00 0.000e+00 0.000e+00 0.000e+00 0.000e+00\n",
      " 0.000e+00 0.000e+00 0.000e+00 0.000e+00 0.000e+00 0.000e+00 0.000e+00\n",
      " 1.000e-03 0.000e+00 1.000e-02 0.000e+00 0.000e+00 0.000e+00 0.000e+00\n",
      " 0.000e+00 0.000e+00 0.000e+00 0.000e+00 0.000e+00 0.000e+00 0.000e+00\n",
      " 0.000e+00 0.000e+00 0.000e+00 0.000e+00 0.000e+00 0.000e+00 0.000e+00\n",
      " 0.000e+00 0.000e+00 0.000e+00 0.000e+00 0.000e+00 0.000e+00 0.000e+00\n",
      " 0.000e+00 0.000e+00 0.000e+00 0.000e+00 0.000e+00 0.000e+00 0.000e+00\n",
      " 1.000e-01 0.000e+00 0.000e+00 0.000e+00 0.000e+00 0.000e+00 0.000e+00\n",
      " 0.000e+00 1.540e-01 0.000e+00 0.000e+00 0.000e+00 0.000e+00 0.000e+00\n",
      " 0.000e+00 0.000e+00 0.000e+00 0.000e+00 0.000e+00 0.000e+00 0.000e+00\n",
      " 0.000e+00 0.000e+00 0.000e+00 0.000e+00 0.000e+00 0.000e+00 0.000e+00\n",
      " 0.000e+00 0.000e+00 0.000e+00 0.000e+00 0.000e+00 0.000e+00 0.000e+00\n",
      " 0.000e+00 0.000e+00 0.000e+00 0.000e+00 0.000e+00 0.000e+00 0.000e+00\n",
      " 0.000e+00 4.300e-01 0.000e+00 0.000e+00 1.000e-02 0.000e+00 0.000e+00\n",
      " 1.000e-03 0.000e+00 0.000e+00 0.000e+00 0.000e+00 0.000e+00 0.000e+00\n",
      " 9.400e-01 0.000e+00 0.000e+00 0.000e+00 0.000e+00 0.000e+00 0.000e+00\n",
      " 0.000e+00 0.000e+00 0.000e+00 0.000e+00 0.000e+00 0.000e+00 0.000e+00\n",
      " 0.000e+00 0.000e+00 0.000e+00 0.000e+00 0.000e+00 0.000e+00 1.000e-02\n",
      " 0.000e+00 0.000e+00 0.000e+00 0.000e+00 0.000e+00 0.000e+00 0.000e+00\n",
      " 0.000e+00 0.000e+00 0.000e+00 0.000e+00 0.000e+00 0.000e+00 0.000e+00\n",
      " 0.000e+00 0.000e+00 0.000e+00 0.000e+00 0.000e+00 0.000e+00 0.000e+00\n",
      " 0.000e+00 0.000e+00 0.000e+00 0.000e+00 0.000e+00 0.000e+00 0.000e+00\n",
      " 0.000e+00 0.000e+00 0.000e+00 0.000e+00 0.000e+00 0.000e+00 0.000e+00\n",
      " 0.000e+00 0.000e+00 0.000e+00 0.000e+00 0.000e+00 0.000e+00 1.000e-02\n",
      " 0.000e+00 0.000e+00 0.000e+00 0.000e+00 0.000e+00 0.000e+00 0.000e+00\n",
      " 0.000e+00 0.000e+00 0.000e+00 0.000e+00 0.000e+00 0.000e+00 0.000e+00\n",
      " 0.000e+00 0.000e+00 0.000e+00 0.000e+00 0.000e+00 0.000e+00 0.000e+00\n",
      " 0.000e+00 0.000e+00 0.000e+00 0.000e+00 0.000e+00 0.000e+00 0.000e+00\n",
      " 0.000e+00 1.333e+01 0.000e+00 0.000e+00 0.000e+00 0.000e+00 0.000e+00\n",
      " 0.000e+00 0.000e+00 0.000e+00 0.000e+00 0.000e+00 0.000e+00 0.000e+00\n",
      " 0.000e+00 0.000e+00 0.000e+00 0.000e+00 0.000e+00 4.000e-02 0.000e+00\n",
      " 0.000e+00 0.000e+00 0.000e+00 0.000e+00 0.000e+00 0.000e+00 0.000e+00\n",
      " 0.000e+00 0.000e+00 0.000e+00 0.000e+00 0.000e+00 0.000e+00 0.000e+00\n",
      " 0.000e+00 0.000e+00 0.000e+00 0.000e+00 0.000e+00 0.000e+00 0.000e+00\n",
      " 0.000e+00 0.000e+00 0.000e+00 0.000e+00 0.000e+00 0.000e+00 0.000e+00\n",
      " 0.000e+00 0.000e+00 0.000e+00 0.000e+00 0.000e+00 0.000e+00 0.000e+00\n",
      " 0.000e+00 0.000e+00 2.000e-03 0.000e+00 0.000e+00 0.000e+00 0.000e+00\n",
      " 0.000e+00 0.000e+00 0.000e+00 0.000e+00 4.000e-03 0.000e+00 0.000e+00\n",
      " 0.000e+00 0.000e+00 0.000e+00 0.000e+00 0.000e+00 0.000e+00 0.000e+00\n",
      " 0.000e+00 0.000e+00 0.000e+00 0.000e+00 0.000e+00 0.000e+00 0.000e+00\n",
      " 0.000e+00 0.000e+00 0.000e+00 0.000e+00 0.000e+00 0.000e+00 0.000e+00\n",
      " 0.000e+00 0.000e+00 0.000e+00 0.000e+00 1.000e-02 0.000e+00 0.000e+00\n",
      " 0.000e+00 0.000e+00 0.000e+00 0.000e+00 0.000e+00 0.000e+00 0.000e+00\n",
      " 0.000e+00 0.000e+00 0.000e+00 0.000e+00 0.000e+00 0.000e+00 0.000e+00\n",
      " 0.000e+00 0.000e+00 0.000e+00 0.000e+00 0.000e+00 0.000e+00 0.000e+00\n",
      " 0.000e+00 0.000e+00 0.000e+00 0.000e+00 0.000e+00 0.000e+00 0.000e+00\n",
      " 0.000e+00 0.000e+00 0.000e+00 0.000e+00 0.000e+00 0.000e+00 0.000e+00\n",
      " 0.000e+00 0.000e+00 0.000e+00 0.000e+00 0.000e+00 0.000e+00 0.000e+00\n",
      " 0.000e+00 0.000e+00 0.000e+00 0.000e+00 1.000e-02 0.000e+00 0.000e+00\n",
      " 0.000e+00 0.000e+00 4.100e-01 1.800e-01 3.900e-01 8.700e-01 0.000e+00\n",
      " 0.000e+00 0.000e+00 0.000e+00 0.000e+00 6.000e-01 0.000e+00 0.000e+00\n",
      " 7.000e-02 2.000e-01 3.000e-02 5.470e+00 5.780e+00 2.200e-01 0.000e+00\n",
      " 0.000e+00 0.000e+00 0.000e+00 0.000e+00 0.000e+00 0.000e+00 6.000e-02\n",
      " 3.000e-02 0.000e+00 0.000e+00 0.000e+00 0.000e+00 0.000e+00 0.000e+00\n",
      " 0.000e+00 0.000e+00 0.000e+00 0.000e+00 0.000e+00 2.180e+00 5.000e-02\n",
      " 8.400e-01 9.300e-02 4.000e-02 3.000e-02 2.500e-01 0.000e+00 2.000e-02\n",
      " 0.000e+00 0.000e+00 0.000e+00 0.000e+00 0.000e+00 0.000e+00 1.355e+01\n",
      " 0.000e+00 2.820e+00 3.500e-01 0.000e+00 2.000e-02 4.800e-01 0.000e+00\n",
      " 0.000e+00]\n"
     ]
    }
   ],
   "source": [
    "report = analysisReportDf[analysisReportDf['分析编号'] == 'FC13525'].reset_index(drop=True)\n",
    "input_vector = extract_all_vector_from_report(all_key_report_cas, report)\n",
    "print(input_vector)"
   ]
  },
  {
   "cell_type": "code",
   "execution_count": 171,
   "metadata": {},
   "outputs": [
    {
     "name": "stdout",
     "output_type": "stream",
     "text": [
      "[0. 0. 0. 0. 0. 0. 0. 0. 0. 0. 0. 0. 0. 0. 0. 0. 0. 0. 0. 0. 0. 0. 0. 0.\n",
      " 0. 0. 0. 0. 0. 0. 0. 0. 0. 0. 0. 0. 0. 0. 1. 0. 0. 0. 0. 0. 0. 0. 0. 0.\n",
      " 0. 0. 0. 0. 0. 0. 0. 0. 0. 0. 0. 0. 0. 0. 0. 0. 0. 0. 0. 0. 0. 0. 0. 0.\n",
      " 0. 0. 0. 1. 0. 0. 0. 0. 0. 0. 0. 0. 0. 1. 0. 0. 0. 0. 0. 0. 0. 0. 0. 0.\n",
      " 0. 0. 0. 0. 0. 0. 0. 0. 0. 0. 0. 0. 0. 0. 0. 0. 0. 0. 0. 0. 0. 0. 0. 0.\n",
      " 0. 0. 0. 0. 0. 0. 0. 0. 0. 0. 0. 0. 0. 0. 0. 0. 0. 0. 0. 0. 0. 0. 0. 0.\n",
      " 0. 0. 0. 1. 0. 0. 0. 0. 0. 0. 0. 0. 0. 0. 0. 0. 1. 0. 0. 0. 0. 0. 0. 0.\n",
      " 0. 0. 0. 0. 0. 0. 0. 0. 0. 0. 0. 0. 0. 0. 0. 0. 0. 0. 0. 0. 0. 0. 0. 0.\n",
      " 0. 0. 0. 0. 0. 0. 0. 0. 0. 0. 0. 0. 0. 0. 0. 0. 0. 0. 0. 0. 0. 0. 0. 0.\n",
      " 0. 0. 0. 0. 0. 0. 0. 0. 0. 0. 0. 0. 0. 0. 0. 0. 0. 0. 0.]\n"
     ]
    }
   ],
   "source": [
    "recipe = formulaDf[formulaDf['主件品号'] == 'P13412'].reset_index(drop=True)\n",
    "output_feature = extract_vector_from_recipe(natrual_oils, recipe)\n",
    "print(output_feature)"
   ]
  },
  {
   "cell_type": "code",
   "execution_count": 16,
   "metadata": {},
   "outputs": [],
   "source": [
    "report_to_recipe = pd.read_excel('data/report_recipe.xlsx').reset_index(drop=True)\n",
    "\n",
    "input_vectors = []\n",
    "output_features = []\n",
    "for _, row in report_to_recipe.iterrows():\n",
    "    report_id = row['分析报告-分析编号']\n",
    "\n",
    "    recipe_id = row['配方-调香师编号']\n",
    "\n",
    "    \n",
    "    report = analysisReportDf[analysisReportDf['分析编号'] == report_id].reset_index(drop=True)\n",
    "    recipe = formulaDf[formulaDf['主件品号'] == recipe_id].reset_index(drop=True)\n",
    "    \n",
    "    input_vector = extract_vector_from_report(key_report_cas, report)\n",
    "    output_feature = extract_key_vector_from_recipe(key_natrual_oils, recipe)\n",
    "\n",
    "    if input_vector.sum() == 0 or output_feature.sum() == 0:\n",
    "        continue\n",
    "\n",
    "    input_vectors.append(input_vector)\n",
    "    output_features.append(output_feature)\n",
    "\n",
    "input_vectors = np.array(input_vectors)\n",
    "output_features = np.array(output_features)\n",
    "\n",
    "# Save the processed data\n",
    "np.save('data/input.npy', input_vectors)\n",
    "np.save('data/key_output.npy', output_features)"
   ]
  },
  {
   "cell_type": "code",
   "execution_count": 17,
   "metadata": {},
   "outputs": [
    {
     "name": "stdout",
     "output_type": "stream",
     "text": [
      "(448, 110)\n"
     ]
    }
   ],
   "source": [
    "print(input_vectors.shape)"
   ]
  },
  {
   "cell_type": "code",
   "execution_count": 18,
   "metadata": {},
   "outputs": [
    {
     "name": "stdout",
     "output_type": "stream",
     "text": [
      "(448, 5)\n"
     ]
    }
   ],
   "source": [
    "print(output_features.shape)\n"
   ]
  },
  {
   "cell_type": "code",
   "execution_count": 21,
   "metadata": {},
   "outputs": [
    {
     "name": "stdout",
     "output_type": "stream",
     "text": [
      "[0.000e+00 0.000e+00 0.000e+00 0.000e+00 0.000e+00 0.000e+00 0.000e+00\n",
      " 0.000e+00 0.000e+00 0.000e+00 0.000e+00 0.000e+00 0.000e+00 0.000e+00\n",
      " 0.000e+00 0.000e+00 0.000e+00 0.000e+00 0.000e+00 0.000e+00 0.000e+00\n",
      " 0.000e+00 0.000e+00 0.000e+00 0.000e+00 0.000e+00 0.000e+00 0.000e+00\n",
      " 0.000e+00 0.000e+00 0.000e+00 0.000e+00 0.000e+00 0.000e+00 0.000e+00\n",
      " 0.000e+00 0.000e+00 0.000e+00 0.000e+00 0.000e+00 0.000e+00 0.000e+00\n",
      " 0.000e+00 1.000e-02 0.000e+00 0.000e+00 0.000e+00 0.000e+00 4.100e-01\n",
      " 1.800e-01 3.900e-01 8.700e-01 0.000e+00 0.000e+00 0.000e+00 0.000e+00\n",
      " 0.000e+00 6.000e-01 0.000e+00 0.000e+00 7.000e-02 2.000e-01 3.000e-02\n",
      " 5.470e+00 5.780e+00 2.200e-01 0.000e+00 0.000e+00 0.000e+00 0.000e+00\n",
      " 0.000e+00 0.000e+00 0.000e+00 6.000e-02 3.000e-02 0.000e+00 0.000e+00\n",
      " 0.000e+00 0.000e+00 0.000e+00 0.000e+00 0.000e+00 0.000e+00 0.000e+00\n",
      " 0.000e+00 0.000e+00 2.180e+00 5.000e-02 8.400e-01 9.300e-02 4.000e-02\n",
      " 3.000e-02 2.500e-01 0.000e+00 2.000e-02 0.000e+00 0.000e+00 0.000e+00\n",
      " 0.000e+00 0.000e+00 0.000e+00 1.355e+01 0.000e+00 2.820e+00 3.500e-01\n",
      " 0.000e+00 2.000e-02 4.800e-01 0.000e+00 0.000e+00]\n",
      "[0.  0.  0.5 0.3 0. ]\n"
     ]
    }
   ],
   "source": [
    "print(input_vectors[0])\n",
    "print(output_features[0])"
   ]
  },
  {
   "cell_type": "code",
   "execution_count": 19,
   "metadata": {},
   "outputs": [
    {
     "name": "stdout",
     "output_type": "stream",
     "text": [
      "Using device: mps\n"
     ]
    }
   ],
   "source": [
    "import torch\n",
    "from model import SimpleBinaryClassifier\n",
    "from sklearn.preprocessing import StandardScaler\n",
    "\n",
    "device = torch.device(\"mps\" if torch.backends.mps.is_available() else \"cpu\")\n",
    "print(f\"Using device: {device}\")"
   ]
  },
  {
   "cell_type": "code",
   "execution_count": 24,
   "metadata": {},
   "outputs": [
    {
     "data": {
      "text/plain": [
       "SimpleBinaryClassifier(\n",
       "  (model): Sequential(\n",
       "    (0): Linear(in_features=110, out_features=64, bias=True)\n",
       "    (1): BatchNorm1d(64, eps=1e-05, momentum=0.1, affine=True, track_running_stats=True)\n",
       "    (2): ReLU()\n",
       "    (3): Dropout(p=0.2, inplace=False)\n",
       "    (4): Linear(in_features=64, out_features=32, bias=True)\n",
       "    (5): BatchNorm1d(32, eps=1e-05, momentum=0.1, affine=True, track_running_stats=True)\n",
       "    (6): ReLU()\n",
       "    (7): Dropout(p=0.2, inplace=False)\n",
       "    (8): Linear(in_features=32, out_features=5, bias=True)\n",
       "  )\n",
       ")"
      ]
     },
     "execution_count": 24,
     "metadata": {},
     "output_type": "execute_result"
    }
   ],
   "source": [
    "model = SimpleBinaryClassifier(110, 5)\n",
    "model.load_state_dict(torch.load(\"key_cas_key_oil_compound_to_oil_binary_model.pth\"))\n",
    "model.eval()\n",
    "model.to(device)"
   ]
  },
  {
   "cell_type": "code",
   "execution_count": 33,
   "metadata": {},
   "outputs": [
    {
     "name": "stdout",
     "output_type": "stream",
     "text": [
      "Raw Results\n",
      "[[-0.8342449  -0.97847515  1.9521244   0.83136576 -0.6404208 ]]\n",
      "[[0.         0.         0.40546511 0.26236426 0.        ]]\n",
      "Tresholded Results\n",
      "[[False False  True  True False]]\n",
      "[[False False  True  True False]]\n",
      "-------------------\n",
      "Raw Results\n",
      "[[-0.8225541  -0.99903566 -0.9409154  -0.9662168  20.012938  ]]\n",
      "[[0.         0.         0.         0.         0.43825493]]\n",
      "Tresholded Results\n",
      "[[False False False False  True]]\n",
      "[[False False False False  True]]\n",
      "-------------------\n",
      "Raw Results\n",
      "[[ 4.9215074  -0.9978858  -0.9945512  -0.6596781  -0.98317844]]\n",
      "[[2.62466859 0.         0.         0.         0.        ]]\n",
      "Tresholded Results\n",
      "[[ True False False False False]]\n",
      "[[ True False False False False]]\n",
      "-------------------\n",
      "Raw Results\n",
      "[[ 0.84547985 -0.99940205 -0.9997676  -0.60522735 -0.7856935 ]]\n",
      "[[0.30010459 0.         0.         0.         0.        ]]\n",
      "Tresholded Results\n",
      "[[ True False False False False]]\n",
      "[[ True False False False False]]\n",
      "-------------------\n",
      "Raw Results\n",
      "[[-0.78341794 -0.9823717  -0.88738567  1.0530664  -0.8630182 ]]\n",
      "[[0.         0.         0.         0.04879016 0.        ]]\n",
      "Tresholded Results\n",
      "[[False False False  True False]]\n",
      "[[False False False  True False]]\n",
      "-------------------\n",
      "Raw Results\n",
      "[[ 0.41521958 -0.99423856 -0.9651836  -0.4701351  -0.9100207 ]]\n",
      "[[0.         0.         0.         0.13976194 0.        ]]\n",
      "Tresholded Results\n",
      "[[ True False False False False]]\n",
      "[[False False False  True False]]\n",
      "-------------------\n",
      "Raw Results\n",
      "[[-0.9457238 -0.989509  -0.9227459 10.259814  -0.8931423]]\n",
      "[[0.         0.         0.         0.01931231 0.        ]]\n",
      "Tresholded Results\n",
      "[[False False False  True False]]\n",
      "[[False False False  True False]]\n",
      "-------------------\n",
      "Raw Results\n",
      "[[ 0.95792407 -0.96654433 -0.88242114 -0.53131384 -0.89035743]]\n",
      "[[0.18232156 0.         0.         0.         0.        ]]\n",
      "Tresholded Results\n",
      "[[ True False False False False]]\n",
      "[[ True False False False False]]\n",
      "-------------------\n",
      "Raw Results\n",
      "[[-0.80780923 -0.99684143 -0.9343114   1.8161621  -0.7901452 ]]\n",
      "[[0.         0.         0.         0.78845736 0.        ]]\n",
      "Tresholded Results\n",
      "[[False False False  True False]]\n",
      "[[False False False  True False]]\n",
      "-------------------\n",
      "Raw Results\n",
      "[[15.150226   -0.9995897  -0.99981105 -0.93317395 -0.9678384 ]]\n",
      "[[1.79175947 0.         0.         0.69314718 0.        ]]\n",
      "Tresholded Results\n",
      "[[ True False False False False]]\n",
      "[[ True False False  True False]]\n",
      "-------------------\n"
     ]
    }
   ],
   "source": [
    "for i in range(10):\n",
    "    # 2. Inference\n",
    "    x_new = input_vectors[i]\n",
    "    x_new = x_new.reshape(1, -1)  # Reshape to match model input\n",
    "    x_new = np.log1p(x_new)\n",
    "\n",
    "    y_new = output_features[i]\n",
    "    y_new = y_new.reshape(1, -1)  # Reshape to match model output\n",
    "    y_new = np.log1p(y_new)\n",
    "\n",
    "    x_tensor = torch.tensor(x_new, dtype=torch.float32).to(device)\n",
    "\n",
    "    with torch.no_grad():\n",
    "        y_pred = model(x_tensor)\n",
    "        y_pred_np = y_pred.cpu().numpy()\n",
    "\n",
    "    # 3. Reverse output transformation\n",
    "    y_pred_original = np.expm1(y_pred_np)\n",
    "\n",
    "    threshold = 0.1\n",
    "\n",
    "    print('Raw Results')\n",
    "    print(y_pred_original)\n",
    "    print(y_new)\n",
    "    print('Tresholded Results')\n",
    "    print(y_pred_original > threshold)\n",
    "    print(y_new > 0)\n",
    "    print('-------------------')"
   ]
  },
  {
   "cell_type": "code",
   "execution_count": 30,
   "metadata": {},
   "outputs": [
    {
     "name": "stdout",
     "output_type": "stream",
     "text": [
      "[[False False False False  True]]\n",
      "[[False False False False  True]]\n"
     ]
    }
   ],
   "source": [
    "threshold = 0.3\n",
    "print(y_pred_original > threshold)\n",
    "print(y_new > 0)"
   ]
  },
  {
   "cell_type": "code",
   "execution_count": 160,
   "metadata": {},
   "outputs": [
    {
     "name": "stdout",
     "output_type": "stream",
     "text": [
      "0.02153033398463458\n"
     ]
    }
   ],
   "source": [
    "y = output_features[0]\n",
    "print(np.mean((y - y_pred_original) ** 2))"
   ]
  },
  {
   "cell_type": "code",
   "execution_count": 4,
   "metadata": {},
   "outputs": [],
   "source": [
    "all_key_cas = pd.read_excel('data/PEP天然油识别(1).xlsx', sheet_name='主要CAS总表8.15').reset_index(drop=True)"
   ]
  },
  {
   "cell_type": "code",
   "execution_count": 10,
   "metadata": {},
   "outputs": [
    {
     "name": "stdout",
     "output_type": "stream",
     "text": [
      "820\n"
     ]
    }
   ],
   "source": [
    "list_all_key_cas = list(all_key_cas['CAS'])\n",
    "print(len(list_all_key_cas))\n",
    "dict_all_key_cas = {}\n",
    "count = 0\n",
    "for cas in list_all_key_cas:\n",
    "    dict_all_key_cas[cas] = count\n",
    "    count += 1"
   ]
  },
  {
   "cell_type": "code",
   "execution_count": 14,
   "metadata": {},
   "outputs": [
    {
     "name": "stdout",
     "output_type": "stream",
     "text": [
      "<class 'dict'>\n"
     ]
    }
   ],
   "source": [
    "with open('data/key_materials.json', 'r') as file:\n",
    "    data = json.load(file)\n",
    "\n",
    "print(type(data))"
   ]
  },
  {
   "cell_type": "code",
   "execution_count": 15,
   "metadata": {},
   "outputs": [],
   "source": [
    "data['all_key_report_cas'] = dict_all_key_cas"
   ]
  },
  {
   "cell_type": "code",
   "execution_count": 16,
   "metadata": {},
   "outputs": [],
   "source": [
    "with open(\"data.json\", \"w\") as f:\n",
    "    json.dump(data, f, indent=4)"
   ]
  }
 ],
 "metadata": {
  "kernelspec": {
   "display_name": ".venv",
   "language": "python",
   "name": "python3"
  },
  "language_info": {
   "codemirror_mode": {
    "name": "ipython",
    "version": 3
   },
   "file_extension": ".py",
   "mimetype": "text/x-python",
   "name": "python",
   "nbconvert_exporter": "python",
   "pygments_lexer": "ipython3",
   "version": "3.13.4"
  }
 },
 "nbformat": 4,
 "nbformat_minor": 2
}
