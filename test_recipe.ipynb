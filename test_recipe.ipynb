{
 "cells": [
  {
   "cell_type": "code",
   "execution_count": 9,
   "metadata": {},
   "outputs": [],
   "source": [
    "import json\n",
    "import numpy as np\n",
    "import pandas as pd"
   ]
  },
  {
   "cell_type": "code",
   "execution_count": 2,
   "metadata": {},
   "outputs": [],
   "source": [
    "def extract_data_from_json(json_file):\n",
    "    with open(json_file, 'r') as file:\n",
    "        data = json.load(file)\n",
    "        key_report_cas = data.get('key_report_cas', {})\n",
    "        natrual_oils = data.get('natrual_oils', {})\n",
    "\n",
    "        return key_report_cas, natrual_oils"
   ]
  },
  {
   "cell_type": "code",
   "execution_count": 22,
   "metadata": {},
   "outputs": [
    {
     "name": "stdout",
     "output_type": "stream",
     "text": [
      "110\n",
      "237\n"
     ]
    }
   ],
   "source": [
    "\n",
    "json_file = 'key_materials.json'  # Replace with your JSON file path\n",
    "key_report_cas, natrual_oils = extract_data_from_json(json_file)\n",
    "NUM_KEY_CAS = 110\n",
    "NUM_NATURAL_OILS = 235"
   ]
  },
  {
   "cell_type": "code",
   "execution_count": 25,
   "metadata": {},
   "outputs": [],
   "source": [
    "\n",
    "def extract_vector_from_report(key_report_cas, report):\n",
    "    input_vector = np.zeros(NUM_KEY_CAS)\n",
    "    report_data = pd.read_excel(report)\n",
    "    report_data = report_data[['CAS', '面积百分比']]\n",
    "    report_data = report_data.groupby('CAS')['面积百分比'].sum().reset_index()\n",
    "    for _, row in report_data.iterrows():\n",
    "        cas = row['CAS']\n",
    "        area = row['面积百分比']\n",
    "        if cas in key_report_cas:\n",
    "            input_vector[key_report_cas[cas]] = area\n",
    "    return input_vector"
   ]
  },
  {
   "cell_type": "code",
   "execution_count": 38,
   "metadata": {},
   "outputs": [],
   "source": [
    "def extract_vector_from_recipe(natrual_oil_code, recipe):\n",
    "    output_feature = np.zeros(NUM_NATURAL_OILS)\n",
    "    recipe_data = pd.read_excel(recipe, skiprows=2)\n",
    "    for _, row in recipe_data.iterrows():\n",
    "        code = str(row['原料编码'])\n",
    "        percentage = row['基本用量']\n",
    "        if code in natrual_oils:\n",
    "            print(code)\n",
    "            output_feature[natrual_oils[code]] = percentage\n",
    "    return output_feature "
   ]
  },
  {
   "cell_type": "code",
   "execution_count": 26,
   "metadata": {},
   "outputs": [],
   "source": [
    "sample_report = 'test_sample/sample_report.xlsx'\n",
    "sample_recipe = 'test_sample/sample_recipe.xlsx'"
   ]
  },
  {
   "cell_type": "code",
   "execution_count": 41,
   "metadata": {},
   "outputs": [
    {
     "name": "stdout",
     "output_type": "stream",
     "text": [
      "[0.00e+00 0.00e+00 0.00e+00 0.00e+00 0.00e+00 0.00e+00 0.00e+00 0.00e+00\n",
      " 0.00e+00 0.00e+00 0.00e+00 0.00e+00 0.00e+00 0.00e+00 0.00e+00 0.00e+00\n",
      " 0.00e+00 0.00e+00 0.00e+00 0.00e+00 0.00e+00 0.00e+00 0.00e+00 0.00e+00\n",
      " 0.00e+00 0.00e+00 0.00e+00 0.00e+00 0.00e+00 0.00e+00 0.00e+00 0.00e+00\n",
      " 0.00e+00 0.00e+00 0.00e+00 0.00e+00 0.00e+00 0.00e+00 0.00e+00 0.00e+00\n",
      " 0.00e+00 0.00e+00 0.00e+00 0.00e+00 0.00e+00 0.00e+00 0.00e+00 0.00e+00\n",
      " 0.00e+00 0.00e+00 0.00e+00 0.00e+00 0.00e+00 0.00e+00 0.00e+00 0.00e+00\n",
      " 0.00e+00 1.02e+00 0.00e+00 7.00e-02 6.00e-02 3.50e-01 2.00e-02 4.41e+00\n",
      " 3.55e+00 3.00e-02 0.00e+00 0.00e+00 0.00e+00 0.00e+00 0.00e+00 0.00e+00\n",
      " 0.00e+00 1.30e-02 0.00e+00 0.00e+00 0.00e+00 0.00e+00 0.00e+00 0.00e+00\n",
      " 0.00e+00 1.00e-03 0.00e+00 0.00e+00 0.00e+00 6.10e-01 8.40e-01 0.00e+00\n",
      " 0.00e+00 8.00e-02 4.00e-02 4.00e-03 0.00e+00 0.00e+00 0.00e+00 1.00e-02\n",
      " 0.00e+00 0.00e+00 0.00e+00 0.00e+00 0.00e+00 2.74e+00 1.27e+00 3.00e-01\n",
      " 0.00e+00 0.00e+00 0.00e+00 1.30e-01 0.00e+00 0.00e+00]\n"
     ]
    }
   ],
   "source": [
    "input_vector = extract_vector_from_report(key_report_cas, sample_report)\n",
    "print(input_vector)"
   ]
  },
  {
   "cell_type": "code",
   "execution_count": 42,
   "metadata": {},
   "outputs": [
    {
     "name": "stdout",
     "output_type": "stream",
     "text": [
      "95004\n",
      "95874\n",
      "95087\n",
      "[0.  0.  0.  0.  0.  0.  0.  0.  0.  0.  0.  0.  0.  0.  0.  0.  0.  0.\n",
      " 0.  0.  0.  0.  0.  0.  0.  0.  0.  0.  0.  0.  0.  0.  0.  0.  0.  0.\n",
      " 0.  0.  0.  1.  0.  0.  0.  0.  0.  0.  0.  0.  0.  0.  0.  0.  0.  0.\n",
      " 0.  0.  0.  0.  0.  0.  0.  0.  0.  0.  0.  0.  0.  0.  0.  0.  0.  0.\n",
      " 0.  0.  0.  0.  0.  0.  0.  0.  0.  0.  0.  0.  0.  1.  0.  0.  0.  0.\n",
      " 0.  0.  0.  0.  0.  0.  0.  0.  0.  0.  0.  0.  0.  0.  0.  0.  0.  0.\n",
      " 0.  0.  0.  0.  0.  0.  0.  0.  0.  0.  0.  0.  0.  0.  0.  0.  0.  0.\n",
      " 0.  0.  0.  0.2 0.  0.  0.  0.  0.  0.  0.  0.  0.  0.  0.  0.  0.  0.\n",
      " 0.  0.  0.  0.  0.  0.  0.  0.  0.  0.  0.  0.  0.  0.  0.  0.  0.  0.\n",
      " 0.  0.  0.  0.  0.  0.  0.  0.  0.  0.  0.  0.  0.  0.  0.  0.  0.  0.\n",
      " 0.  0.  0.  0.  0.  0.  0.  0.  0.  0.  0.  0.  0.  0.  0.  0.  0.  0.\n",
      " 0.  0.  0.  0.  0.  0.  0.  0.  0.  0.  0.  0.  0.  0.  0.  0.  0.  0.\n",
      " 0.  0.  0.  0.  0.  0.  0.  0.  0.  0.  0.  0.  0.  0.  0.  0.  0.  0.\n",
      " 0. ]\n"
     ]
    }
   ],
   "source": [
    "output_feature = extract_vector_from_recipe(natrual_oils, sample_recipe)\n",
    "print(output_feature)"
   ]
  }
 ],
 "metadata": {
  "kernelspec": {
   "display_name": ".venv",
   "language": "python",
   "name": "python3"
  },
  "language_info": {
   "codemirror_mode": {
    "name": "ipython",
    "version": 3
   },
   "file_extension": ".py",
   "mimetype": "text/x-python",
   "name": "python",
   "nbconvert_exporter": "python",
   "pygments_lexer": "ipython3",
   "version": "3.13.4"
  }
 },
 "nbformat": 4,
 "nbformat_minor": 2
}
